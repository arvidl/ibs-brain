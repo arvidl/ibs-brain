{
 "cells": [
  {
   "cell_type": "markdown",
   "metadata": {},
   "source": [
    "# 04-comparing-FS-versions-on-same-dataset.ipynb\n",
    "\n",
    "Using `ibs-brain` conda environment\n",
    "\n",
    "Arvid Lundervold\n",
    "\n",
    "Last updated: 2024-12-01\n",
    "\n",
    "\n",
    "Comparing FreeSurfer v 6.0.1 (cross-sectional) and version 7.4.1 (cross-sectional) on the Bergen cohort with 78 participants.<br>\n",
    "\n",
    "The files<br>\n",
    "- `all_subjects_measure_fs7_cros_sectional.csv`, \n",
    "- `all_subjects_measures_fs7_longitudinal_stream.csv`,and \n",
    "- `all_subjects_measures_fs6.csv`(cross-sectional) \n",
    "\n",
    "are produced by `compare_FSversions_al.ipynb` (in the `ibs-brain-dev`repo, only)<br>\n",
    "and further saved to:<br> \n",
    "- `../data/fs7_cross_aseg_stats_for_regions_in_Skrobisz2022_78x38.csv`, \n",
    "- `../data/fs7_long_aseg_stats_for_regions_in_Skrobisz2022_78x38.csv`, and \n",
    "- `../data/fs6_aseg_stats_for_regions_in_Skrobisz2022_78x38.csv`, \n",
    "\n",
    "respectively.\n",
    "\n",
    "\n",
    "### Example stats file (BGA_046)\n",
    "\n",
    "#### FS v 6.0.1\n",
    "_CROSS-SECTIONAL_:\n",
    "\n",
    "**BG_046_20190531_0825_aseg.stats:**<br>\n",
    "Measure EstimatedTotalIntraCranialVol, eTIV, Estimated Total Intracranial Volume, 1656739.304977, mm^3<br>\n",
    "ColHeaders  Index SegId NVoxels Volume_mm3 StructName normMean normStdDev normMin normMax normRange  <br>\n",
    "  1   4      9213     9541.5  Left-Lateral-Ventricle            24.1233    13.2426     0.0000    84.0000    84.0000 \n",
    "\n",
    "#### FS v 7.4.1\n",
    "_CROSS-SECTIONAL_:\n",
    "\n",
    "**BG_046_20190531_0825_long_aseg.stats:**<br>\n",
    "Measure EstimatedTotalIntraCranialVol, eTIV, Estimated Total Intracranial Volume, 1736077.544622, mm^3<br>\n",
    "ColHeaders  Index SegId NVoxels Volume_mm3 StructName normMean normStdDev normMin normMax normRange  <br>\n",
    "  1   4      9302     9565.0  Left-Lateral-Ventricle            26.6249    13.3030     4.0000    86.0000    82.0000 \n",
    "\n",
    "_LONGITUDINAL STREAM_:\n",
    "\n",
    "**BG_046_20190531_0825.long.BG_004_base_long_aseg.stats:**<br>\n",
    "Measure EstimatedTotalIntraCranialVol, eTIV, Estimated Total Intracranial Volume, 1743418.965710, mm^3<br>\n",
    "ColHeaders  Index SegId NVoxels Volume_mm3 StructName normMean normStdDev normMin normMax normRange  <br>\n",
    "  1   4      8783     8991.8  Left-Lateral-Ventricle            22.3853    12.3294     0.0000    70.0000    70.0000 \n"
   ]
  },
  {
   "cell_type": "code",
   "execution_count": 1,
   "metadata": {},
   "outputs": [],
   "source": [
    "import os\n",
    "import platform\n",
    "import numpy as np\n",
    "import pandas as pd\n",
    "import matplotlib.pyplot as plt\n",
    "\n",
    "home = os.path.expanduser('~')\n",
    "%matplotlib inline"
   ]
  },
  {
   "cell_type": "code",
   "execution_count": 2,
   "metadata": {},
   "outputs": [
    {
     "name": "stdout",
     "output_type": "stream",
     "text": [
      "OK, you are running on MacOS (Darwin Kernel Version 24.1.0: Thu Oct 10 21:02:27 PDT 2024; root:xnu-11215.41.3~2/RELEASE_X86_64)\n"
     ]
    }
   ],
   "source": [
    "if platform.system() == 'Darwin':\n",
    "    print(f'OK, you are running on MacOS ({platform.version()})')\n",
    "if platform.system() == 'Linux':\n",
    "    print(f'OK, you are running on Linux ({platform.version()})')\n",
    "if platform.system() == 'Windows':\n",
    "    print(f'OK, but consider to install WSL for Windows10/11 since you are running on {platform.system()}')\n",
    "    print('Check https://docs.microsoft.com/en-us/windows/wsl/install')"
   ]
  },
  {
   "cell_type": "code",
   "execution_count": 3,
   "metadata": {},
   "outputs": [],
   "source": [
    "df_fs6_cross = pd.read_csv('../data/fs6_aseg_stats_for_regions_in_Skrobisz2022_78x38.csv')\n",
    "df_fs7_cross = pd.read_csv('../data/fs7_cross_aseg_stats_for_regions_in_Skrobisz2022_78x38.csv')\n",
    "df_fs7_long = pd.read_csv('../data/fs7_long_aseg_stats_for_regions_in_Skrobisz2022_78x38.csv')\n"
   ]
  },
  {
   "cell_type": "code",
   "execution_count": null,
   "metadata": {},
   "outputs": [],
   "source": []
  }
 ],
 "metadata": {
  "kernelspec": {
   "display_name": "ibs-brain",
   "language": "python",
   "name": "python3"
  },
  "language_info": {
   "codemirror_mode": {
    "name": "ipython",
    "version": 3
   },
   "file_extension": ".py",
   "mimetype": "text/x-python",
   "name": "python",
   "nbconvert_exporter": "python",
   "pygments_lexer": "ipython3",
   "version": "3.10.15"
  }
 },
 "nbformat": 4,
 "nbformat_minor": 2
}
